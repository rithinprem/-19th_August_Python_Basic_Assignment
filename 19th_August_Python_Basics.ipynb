{
 "cells": [
  {
   "cell_type": "code",
   "execution_count": 54,
   "id": "aa78e2a0-ccca-4852-a13d-7b600ee09c6c",
   "metadata": {},
   "outputs": [
    {
     "name": "stdout",
     "output_type": "stream",
     "text": [
      "x is: 40 y is: 10\n"
     ]
    }
   ],
   "source": [
    "#Swap the values of these variables without using any temporary variable\n",
    "\n",
    "x=10\n",
    "y=40\n",
    "\n",
    "x = x+y\n",
    "y = x-y\n",
    "x = x-y\n",
    "\n",
    "print(\"x is:\",x,\"y is:\",y)  # after swapping"
   ]
  },
  {
   "cell_type": "code",
   "execution_count": 11,
   "id": "917e2744-6055-43cc-8978-5deeb3503efc",
   "metadata": {},
   "outputs": [
    {
     "name": "stdin",
     "output_type": "stream",
     "text": [
      "Enter length: 10\n",
      "Enter breadth: 20\n"
     ]
    },
    {
     "name": "stdout",
     "output_type": "stream",
     "text": [
      "Area of Rectangle: 200.0 unit sq\n"
     ]
    }
   ],
   "source": [
    "# Finding the area of rectangle(Area = length*breadth)\n",
    "\n",
    "length,breadth = float(input(\"Enter length:\")),float(input(\"Enter breadth:\"))\n",
    "print(\"Area of Rectangle:\",length*breadth,\"unit sq\")"
   ]
  },
  {
   "cell_type": "code",
   "execution_count": 14,
   "id": "2e4feddd-6933-40b2-961a-cd8600970a5f",
   "metadata": {},
   "outputs": [
    {
     "name": "stdin",
     "output_type": "stream",
     "text": [
      "Enter celcius value: 100.44\n"
     ]
    },
    {
     "name": "stdout",
     "output_type": "stream",
     "text": [
      "Fahrenheit value: 212.792\n"
     ]
    }
   ],
   "source": [
    "# Converting celcius to Fahrenheit\n",
    "\n",
    "c = float(input(\"Enter celcius value:\"))\n",
    "f = c* (9/5)+32         # formula to convert celcius to fahrenheit.\n",
    "print(\"Fahrenheit value:\",f)"
   ]
  },
  {
   "cell_type": "code",
   "execution_count": 20,
   "id": "ee417dc5-dbfa-45c5-aff8-6eef9b911776",
   "metadata": {},
   "outputs": [
    {
     "name": "stdin",
     "output_type": "stream",
     "text": [
      "Enter the string: hello\n"
     ]
    },
    {
     "name": "stdout",
     "output_type": "stream",
     "text": [
      "Length of the string: 5\n"
     ]
    }
   ],
   "source": [
    "# program that takes a string as input and prints the length of the string\n",
    "\n",
    "string = input(\"Enter the string:\")\n",
    "print(\"Length of the string:\",len(string))"
   ]
  },
  {
   "cell_type": "code",
   "execution_count": 32,
   "id": "a6bd4842-b47c-4288-9c9f-bbbb4cf79ee7",
   "metadata": {},
   "outputs": [
    {
     "name": "stdin",
     "output_type": "stream",
     "text": [
      "Enter a sentence: hello how are you\n"
     ]
    },
    {
     "name": "stdout",
     "output_type": "stream",
     "text": [
      "7\n"
     ]
    }
   ],
   "source": [
    "# program that takes a sentence from the user and counts the number of vowels (a, e, i, o, u) in the string\n",
    "\n",
    "sentence = input(\"Enter a sentence:\")\n",
    "sentence=sentence.lower()\n",
    "count = 0\n",
    "for i in range (len(sentence)):\n",
    "    if sentence[i] in ['a','e','i','o','u']:\n",
    "        count+=1\n",
    "print(count)"
   ]
  },
  {
   "cell_type": "code",
   "execution_count": 35,
   "id": "59966340-233f-4c2e-abfb-4ebfa4ab4aee",
   "metadata": {},
   "outputs": [
    {
     "name": "stdout",
     "output_type": "stream",
     "text": [
      "String Reversed: esreveR\n"
     ]
    }
   ],
   "source": [
    "# reverse the order of characters using string slicing\n",
    "\n",
    "string1 = \"Reverse\"\n",
    "rev_string = string1[::-1]\n",
    "print(\"String Reversed:\",rev_string)"
   ]
  },
  {
   "cell_type": "code",
   "execution_count": 39,
   "id": "83c76b7a-edd6-4577-beff-755623855c33",
   "metadata": {},
   "outputs": [
    {
     "name": "stdin",
     "output_type": "stream",
     "text": [
      "Enter a string:  Malayalam\n"
     ]
    },
    {
     "name": "stdout",
     "output_type": "stream",
     "text": [
      "Given string is Pallindrome\n"
     ]
    }
   ],
   "source": [
    "# a program that takes a string as input and checks if it is a palindrome(reads the same forwards and backwards)\n",
    "\n",
    "string2 = input(\"Enter a string: \")\n",
    "string2 = string2.lower()\n",
    "if string2[::-1] ==string2:\n",
    "    print(\"Given string is Pallindrome\")\n",
    "else:\n",
    "    print(\"Given string is not Pallindrome\")"
   ]
  },
  {
   "cell_type": "code",
   "execution_count": 51,
   "id": "8e8e0731-7daa-4d3f-8d3a-608de6e153bc",
   "metadata": {},
   "outputs": [
    {
     "name": "stdin",
     "output_type": "stream",
     "text": [
      "Enter a string : Hello World\n"
     ]
    },
    {
     "name": "stdout",
     "output_type": "stream",
     "text": [
      "String without spaces: HelloWorld\n"
     ]
    }
   ],
   "source": [
    "# a program that takes a string as input and removes all the spaces from it. Print the modified string without spaces.\n",
    "\n",
    "string3 = input(\"Enter a string :\")\n",
    "print(\"String without spaces:\",string3.replace(\" \",\"\"))"
   ]
  },
  {
   "cell_type": "code",
   "execution_count": null,
   "id": "9b674a0c-a95c-402e-a47d-7fe0f8659986",
   "metadata": {},
   "outputs": [],
   "source": []
  }
 ],
 "metadata": {
  "kernelspec": {
   "display_name": "Python 3 (ipykernel)",
   "language": "python",
   "name": "python3"
  },
  "language_info": {
   "codemirror_mode": {
    "name": "ipython",
    "version": 3
   },
   "file_extension": ".py",
   "mimetype": "text/x-python",
   "name": "python",
   "nbconvert_exporter": "python",
   "pygments_lexer": "ipython3",
   "version": "3.10.8"
  }
 },
 "nbformat": 4,
 "nbformat_minor": 5
}
